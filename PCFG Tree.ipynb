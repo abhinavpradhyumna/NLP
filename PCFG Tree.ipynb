{
 "cells": [
  {
   "cell_type": "code",
   "execution_count": 6,
   "id": "37a6fe94",
   "metadata": {},
   "outputs": [],
   "source": [
    "from nltk import *\n",
    "grammar = PCFG.fromstring(\"\"\"\n",
    "S -> NP VP [1.0]\n",
    "VP -> V NP [0.7] | VP PP [0.3]\n",
    "NP -> Det N [0.5] | NP PP [0.2] | 'John' [0.3]\n",
    "PP -> P NP [1.0]\n",
    "V -> 'saw' [0.2] | 'ate' [0.8]\n",
    "Det -> 'the' [0.6] | 'a' [0.4]\n",
    "N -> 'man' [0.5] | 'telescope' [0.5]\n",
    "P -> 'with' [0.4] | 'in' [0.6]\n",
    "\"\"\")\n"
   ]
  },
  {
   "cell_type": "code",
   "execution_count": 8,
   "id": "044369d0",
   "metadata": {},
   "outputs": [
    {
     "name": "stdout",
     "output_type": "stream",
     "text": [
      "(S\n",
      "  (NP John)\n",
      "  (VP\n",
      "    (VP (V saw) (NP (Det a) (N man)))\n",
      "    (PP (P with) (NP (Det a) (N telescope))))) (p=5.04e-05)\n"
     ]
    }
   ],
   "source": [
    "parser=ViterbiParser(grammar)\n",
    "sentence=\"John saw a man with a telescope\"\n",
    "sent=sentence.split(\" \")\n",
    "for tree in parser.parse(sent):\n",
    "    print(tree)"
   ]
  }
 ],
 "metadata": {
  "kernelspec": {
   "display_name": "Python 3 (ipykernel)",
   "language": "python",
   "name": "python3"
  },
  "language_info": {
   "codemirror_mode": {
    "name": "ipython",
    "version": 3
   },
   "file_extension": ".py",
   "mimetype": "text/x-python",
   "name": "python",
   "nbconvert_exporter": "python",
   "pygments_lexer": "ipython3",
   "version": "3.10.9"
  }
 },
 "nbformat": 4,
 "nbformat_minor": 5
}
