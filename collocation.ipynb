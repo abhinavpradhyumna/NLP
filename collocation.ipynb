{
 "cells": [
  {
   "cell_type": "code",
   "execution_count": 2,
   "id": "9a12d9a9",
   "metadata": {},
   "outputs": [],
   "source": [
    "from nltk.tokenize import word_tokenize\n",
    "import numpy as np"
   ]
  },
  {
   "cell_type": "code",
   "execution_count": 20,
   "id": "26576557",
   "metadata": {},
   "outputs": [
    {
     "data": {
      "text/plain": [
       "('in', 'the')"
      ]
     },
     "execution_count": 20,
     "metadata": {},
     "output_type": "execute_result"
    }
   ],
   "source": [
    "from collections import Counter\n",
    "from nltk.util import ngrams\n",
    "\n",
    "counter=Counter(ngrams(corpus.split(\" \"),2))\n",
    "maximum=list(counter.values())\n",
    "index=maximum.index(max(maximum))\n",
    "keys=list(counter.keys())\n",
    "keys[index]"
   ]
  },
  {
   "cell_type": "code",
   "execution_count": 24,
   "id": "afc10f64",
   "metadata": {},
   "outputs": [
    {
     "data": {
      "text/plain": [
       "['',\n",
       " '\\nOn',\n",
       " '(Estonia',\n",
       " '1',\n",
       " '100',\n",
       " '17',\n",
       " '1939',\n",
       " '1940',\n",
       " 'Allies',\n",
       " 'At',\n",
       " 'August',\n",
       " 'Baltic',\n",
       " 'Britain',\n",
       " 'British',\n",
       " 'During',\n",
       " 'Finland',\n",
       " 'France',\n",
       " 'German',\n",
       " 'German-Soviet',\n",
       " 'Germany',\n",
       " 'Great',\n",
       " 'Hitler',\n",
       " 'II',\n",
       " 'In',\n",
       " 'Joseph',\n",
       " 'Latvia',\n",
       " 'Lithuania)',\n",
       " 'London',\n",
       " 'Nonaggression',\n",
       " 'On',\n",
       " 'Pact',\n",
       " 'Paris',\n",
       " 'Poland',\n",
       " 'Russo-Finnish',\n",
       " 'September',\n",
       " 'Soviet',\n",
       " 'Stalin',\n",
       " 'Stalin’s',\n",
       " 'States',\n",
       " 'The',\n",
       " 'U-boat',\n",
       " 'Under',\n",
       " 'Union',\n",
       " 'War',\n",
       " 'World',\n",
       " 'a',\n",
       " 'according',\n",
       " 'action',\n",
       " 'an',\n",
       " 'and',\n",
       " 'appended',\n",
       " 'assistance',\n",
       " 'at',\n",
       " 'attack',\n",
       " 'attacked',\n",
       " 'battle',\n",
       " 'beginning',\n",
       " 'both',\n",
       " 'bound',\n",
       " 'by',\n",
       " 'conquering',\n",
       " 'control',\n",
       " 'days',\n",
       " 'declared',\n",
       " 'defeated',\n",
       " 'divided',\n",
       " 'dividing',\n",
       " 'early',\n",
       " 'east',\n",
       " 'face',\n",
       " 'faced',\n",
       " 'fell',\n",
       " 'first',\n",
       " 'following',\n",
       " 'for',\n",
       " 'forces',\n",
       " 'four',\n",
       " 'frenzy',\n",
       " 'from',\n",
       " 'fronts',\n",
       " 'guaranteed',\n",
       " 'had',\n",
       " 'have',\n",
       " 'he',\n",
       " 'heated',\n",
       " 'however',\n",
       " 'if',\n",
       " 'in',\n",
       " 'incited',\n",
       " 'invaded',\n",
       " 'invasion',\n",
       " 'it',\n",
       " 'itself',\n",
       " 'lack',\n",
       " 'late',\n",
       " 'later',\n",
       " 'leader',\n",
       " 'led',\n",
       " 'lethal',\n",
       " 'long',\n",
       " 'meant',\n",
       " 'media',\n",
       " 'merchant',\n",
       " 'military',\n",
       " 'months',\n",
       " 'more',\n",
       " 'moved',\n",
       " 'nation',\n",
       " 'navies',\n",
       " 'news',\n",
       " 'not',\n",
       " 'occupy',\n",
       " 'of',\n",
       " 'off',\n",
       " 'on',\n",
       " 'once',\n",
       " 'over',\n",
       " 'pact',\n",
       " 'part',\n",
       " 'planned',\n",
       " 'protocol',\n",
       " 'quickly',\n",
       " 'resistant',\n",
       " 'sea',\n",
       " 'secret',\n",
       " 'shipping',\n",
       " 'sides',\n",
       " 'signed',\n",
       " 'sinking',\n",
       " 'six',\n",
       " 'struck',\n",
       " 'submarines',\n",
       " 'support',\n",
       " 'talk',\n",
       " 'than',\n",
       " 'that',\n",
       " 'the',\n",
       " 'then',\n",
       " 'to',\n",
       " 'troops',\n",
       " 'two',\n",
       " 'vessels',\n",
       " 'war',\n",
       " 'were',\n",
       " 'west',\n",
       " 'west;',\n",
       " 'which',\n",
       " 'with',\n",
       " 'worry',\n",
       " 'would',\n",
       " '“phony',\n",
       " '”']"
      ]
     },
     "execution_count": 24,
     "metadata": {},
     "output_type": "execute_result"
    }
   ],
   "source": [
    "import numpy as np\n",
    "words=corpus.split(\" \")\n",
    "words=np.array(words)\n",
    "list(np.unique(words))"
   ]
  },
  {
   "cell_type": "code",
   "execution_count": 12,
   "id": "981c9e12",
   "metadata": {},
   "outputs": [],
   "source": [
    "corpus=\"\"\"In late August 1939, Hitler and Soviet leader Joseph Stalin signed the German-Soviet Nonaggression Pact, which incited a frenzy of worry in London and Paris. Hitler had long planned an invasion of Poland, a nation to which Great Britain and France had guaranteed military support if it were attacked by Germany. The pact with Stalin meant that Hitler would not face a war on two fronts once he invaded Poland, and would have Soviet assistance in conquering and dividing the nation itself. On September 1, 1939, Hitler invaded Poland from the west; two days later, France and Britain declared war on Germany, beginning World War II.\n",
    "On September 17, Soviet troops invaded Poland from the east. Under attack from both sides, Poland fell quickly, and by early 1940 Germany and the Soviet Union had divided control over the nation, according to a secret protocol appended to the Nonaggression Pact. Stalin’s forces then moved to occupy the Baltic States (Estonia, Latvia and Lithuania) and defeated a resistant Finland in the Russo-Finnish War. During the six months following the invasion of Poland, the lack of action on the part of Germany and the Allies in the west led to talk in the news media of a “phony war.” At sea, however, the British and German navies faced off in heated battle, and lethal German U-boat submarines struck at merchant shipping bound for Britain, sinking more than 100 vessels in the first four months of World War II.\"\"\"\n",
    "\n",
    "corpus=corpus.replace(\",\",\" \")\n",
    "corpus=corpus.replace(\".\",\" \")\n",
    "corpus=corpus.replace(\" \\\"\",\" \")"
   ]
  },
  {
   "cell_type": "code",
   "execution_count": 4,
   "id": "04b9cdad",
   "metadata": {},
   "outputs": [],
   "source": [
    "tokenized=word_tokenize(corpus)"
   ]
  },
  {
   "cell_type": "code",
   "execution_count": 5,
   "id": "067b30ad",
   "metadata": {},
   "outputs": [],
   "source": [
    "bigrams=[[] for i in range(len(tokenized)-1)]\n",
    "for i in range(len(tokenized)-1):\n",
    "    bigrams[i]=[tokenized[i],tokenized[i+1]]\n"
   ]
  },
  {
   "cell_type": "code",
   "execution_count": 6,
   "id": "91000b1a",
   "metadata": {},
   "outputs": [],
   "source": [
    "counts=[]\n",
    "for lst in bigrams:\n",
    "    counts.append(bigrams.count(lst))\n",
    "maximum=max(counts)\n",
    "index=counts.index(maximum)"
   ]
  },
  {
   "cell_type": "code",
   "execution_count": 9,
   "id": "ab9b535e",
   "metadata": {},
   "outputs": [
    {
     "data": {
      "text/plain": [
       "4"
      ]
     },
     "execution_count": 9,
     "metadata": {},
     "output_type": "execute_result"
    }
   ],
   "source": [
    "w1_count=tokenized.count(\"in\")\n",
    "w2_count=tokenized.count(\"the\")"
   ]
  },
  {
   "cell_type": "code",
   "execution_count": 24,
   "id": "b106c40c",
   "metadata": {},
   "outputs": [
    {
     "data": {
      "text/plain": [
       "0.015873015873015872"
      ]
     },
     "execution_count": 24,
     "metadata": {},
     "output_type": "execute_result"
    }
   ],
   "source": [
    "observed_mean=w1_count*w2_count/len(tokenized)\n",
    "sample_mean=maximum/len(tokenized)\n"
   ]
  },
  {
   "cell_type": "code",
   "execution_count": 18,
   "id": "f76182a7",
   "metadata": {},
   "outputs": [],
   "source": [
    "t_score = (sample_mean - observed_mean) / (sample_mean/np.sqrt(len(tokenized)))"
   ]
  },
  {
   "cell_type": "code",
   "execution_count": 14,
   "id": "15328827",
   "metadata": {},
   "outputs": [],
   "source": [
    "observed=[[4,3],[14,len(tokenized)-18]]\n",
    "expected=[[2.3,2.1],[3.6,205.5]]"
   ]
  },
  {
   "cell_type": "code",
   "execution_count": 18,
   "id": "4d7d27eb",
   "metadata": {},
   "outputs": [
    {
     "name": "stdout",
     "output_type": "stream",
     "text": [
      "COLLOCATION\n"
     ]
    }
   ],
   "source": [
    "sum1=0\n",
    "for i in range(0,len(observed)):\n",
    "    sum1+= (observed[i][0]-expected[i][0])/expected[i][0]\n",
    "    sum1+= (observed[i][1]-expected[i][1])/expected[i][1]\n",
    "sum1\n",
    "if sum1>3.84:\n",
    "    print(\"COLLOCATION\")"
   ]
  }
 ],
 "metadata": {
  "kernelspec": {
   "display_name": "Python 3 (ipykernel)",
   "language": "python",
   "name": "python3"
  },
  "language_info": {
   "codemirror_mode": {
    "name": "ipython",
    "version": 3
   },
   "file_extension": ".py",
   "mimetype": "text/x-python",
   "name": "python",
   "nbconvert_exporter": "python",
   "pygments_lexer": "ipython3",
   "version": "3.10.9"
  }
 },
 "nbformat": 4,
 "nbformat_minor": 5
}
