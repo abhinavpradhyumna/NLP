{
 "cells": [
  {
   "cell_type": "code",
   "execution_count": 20,
   "id": "ac1ec5ee",
   "metadata": {},
   "outputs": [],
   "source": [
    "import numpy as np\n",
    "Sense=[\"Land\",\"Land\",\"Finance\",\"Finance\",\"Land\",\"Land\"]\n",
    "doc=[[\"Bank\",\"Border\",\"Wall\"],[\"Bank\",\"Border\",\"alongside\"],[\"Extension\",\"Bank\",\"Phone\"],[\"Bank\",\"little\",\"alongside\"],[\"Bank\",\"Border\",\"ground\"],[\"Bank\",\"little\",\"alongside\"]]\n",
    "v=10\n",
    "prob=[]\n",
    "no_of_L=0\n",
    "no_of_F=0\n",
    "for i in Sense:\n",
    "    if i == \"Land\":\n",
    "        no_of_L+=1\n",
    "    if i == \"Finance\":\n",
    "        no_of_F+=1\n",
    "prob.append(no_of_L/len(Sense))\n",
    "prob.append(no_of_F/len(Sense))\n",
    "entry1_in_L=0\n",
    "entry2_in_L=0\n",
    "entry3_in_L=0\n",
    "entry1=0\n",
    "entry2=0\n",
    "entry3=0"
   ]
  },
  {
   "cell_type": "code",
   "execution_count": 21,
   "id": "17e6cdd9",
   "metadata": {},
   "outputs": [
    {
     "name": "stdout",
     "output_type": "stream",
     "text": [
      "4 3 0 2 0 0\n"
     ]
    }
   ],
   "source": [
    "for i in range(len(Sense)):\n",
    "    for j in doc[i]:\n",
    "        if j==\"Bank\" and Sense[i]==\"Land\":\n",
    "            entry1_in_L+=1\n",
    "        if j==\"Border\" and Sense[i]==\"Land\":\n",
    "            entry2_in_L+=1\n",
    "        if j==\"Money\" and Sense[i]==\"Land\":\n",
    "             entry3_in_L+=1\n",
    "        if j==\"Bank\" and Sense[i]==\"Finance\":\n",
    "             entry1+=1\n",
    "        if j==\"Border\" and Sense[i]==\"Finance\":\n",
    "             entry2+=1\n",
    "        if j==\"Money\" and Sense[i]==\"Finance\":\n",
    "             entry3+=1\n",
    "                \n",
    "print(entry1_in_L,entry2_in_L,entry3_in_L,entry1,entry2,entry3)\n",
    "\n"
   ]
  },
  {
   "cell_type": "code",
   "execution_count": 23,
   "id": "a6034284",
   "metadata": {},
   "outputs": [],
   "source": [
    "val=np.log10(entry1_in_L +1 / len(Sense)+v) +np.log10(entry2_in_L +1 / len(Sense)+v)+np.log10(entry3_in_L +1 / len(Sense)+v)"
   ]
  }
 ],
 "metadata": {
  "kernelspec": {
   "display_name": "Python 3 (ipykernel)",
   "language": "python",
   "name": "python3"
  },
  "language_info": {
   "codemirror_mode": {
    "name": "ipython",
    "version": 3
   },
   "file_extension": ".py",
   "mimetype": "text/x-python",
   "name": "python",
   "nbconvert_exporter": "python",
   "pygments_lexer": "ipython3",
   "version": "3.10.9"
  }
 },
 "nbformat": 4,
 "nbformat_minor": 5
}
